{
 "cells": [
  {
   "cell_type": "code",
   "execution_count": null,
   "id": "2f6baff9",
   "metadata": {
    "vscode": {
     "languageId": "plaintext"
    }
   },
   "outputs": [],
   "source": [
    "# 01_EDA_spam_dataset.ipynb\n",
    "\n",
    "import pandas as pd\n",
    "import matplotlib.pyplot as plt\n",
    "import seaborn as sns\n",
    "\n",
    "# Load dataset\n",
    "df = pd.read_csv(\"../data/raw/emails.csv\")  # adjust path if needed\n",
    "\n",
    "# Basic overview\n",
    "print(\"Dataset Shape:\", df.shape)\n",
    "print(\"\\nColumns:\\n\", df.columns)\n",
    "\n",
    "# Peek at the data\n",
    "df.head()\n"
   ]
  }
 ],
 "metadata": {
  "language_info": {
   "name": "python"
  }
 },
 "nbformat": 4,
 "nbformat_minor": 5
}
